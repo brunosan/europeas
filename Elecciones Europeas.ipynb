{
 "cells": [
  {
   "cell_type": "markdown",
   "metadata": {},
   "source": [
    "## Estrategia\n",
    "\n",
    "Calcular en qué unidades electorales es más fácil sacar votos, a la vez que podemos asignar quién sería el beneficiario de esa ganancia. Esto permite asignar visitas y mensajes a cada candidato. Estos mensajes pueden ser de pedir cambiar el voto, y de conseguir que los no votantes voten. La facilidad de cambiar el voto es proporcional a cómo de saturada esté la votación.\n",
    "\n",
    "\n",
    "## Hipótesis\n",
    "\n",
    "1. Los resultados de las votaciones son iguales a las anteriores, o extrapolaciones de la tendencia.\n",
    "2. El *efecto del esfuerzo* para ganar una % de votos satura en ambos extremos, es una gaussiana. En los extremos (cuando casi nadie o casi todos ya votan) cuesta mucho ganar votos, en el centro es más fácil.\n",
    "3. Los votos ganados tienen que salir de uno de estos dos sitios: a)de votos a otros partidos, cuya resistencia a cambiar es la misma gausiana que en 2. b) de motivar a los no votantes, que votarán en primera approximación proporcionalmente a predición de resultados. I.e. la estrategia puede ser \"ganar votos para un partido\" o \"id a votar\".\n",
    "4. El resultado del esfuerzo es proporcional al tamaño de la unidad de voto. Aunque el esfuerzo sea sobre el % de votos de una divisón electoral, hay divisiones con 100 candidatos, y otras con cientos de miles. \n",
    "5. Al ser España una circumscripción única para las Europeas, de listas cerradas, se puede asignar nombre a los votos ganados o perdidos en cada actuación. E.g. 10 votos más sacan al candidato X.\n",
    "* Por tanto, los efectos de los esfuerzos de voto se pueden asiganr a los candidatos correspodientes en la asignación de escaños. E.g. En el minicipio X se prevé que el esfuerzo es mínimo para sacar el escaño, y el mensaje es simplemente que voten.\n",
    "\n",
    "Por tanto, la idea es que, para cada escaño, calcular cuantos votos hacen falta para asignárselo. Luego ordenar los lugares por orden del resultado del esfuerzo. Uno podría minimizarlo con el coste del esfuerzo, pero en principio se ordena por el efecto del esfuerzo\n",
    "\n",
    "\n",
    "Dado un %% de votos, se asigna un tiron  Tx=gauss(x). Este tirón se tiene que compensar con una serie de tirones de Ta,Tb,Gc, ... y N. Siendo Ta=agauss(A) lo tirones negativos hasta que se consigue Tx. Tn es el tirón de los no votantes. El tirón de los no votantes tiene el effecto proporcional a los % de votos, por lo tanto afecta a todos. \n"
   ]
  },
  {
   "cell_type": "markdown",
   "metadata": {},
   "source": [
    "## Datos\n",
    "\n",
    "* Sacar los datos de elecceiones de 2014 granulares de los municipios\n",
    "* Buscar los sitios de menor participación.\n",
    "\n",
    "* Sacar las diferencias de participación.\n",
    "\n",
    "\n",
    "Busque en Wikipedia, en github, en el boe, pero nadie tiene los CSV de resultados desagregados.\n",
    "\n",
    "Al final encontré la mayoría de datos en http://elecciones.mir.es/resultados2014/ini99v.htm\n",
    "\n",
    "Auqneu son provisionales al 99.77% me valen.\n",
    "No tienen opcion a descargas todo, ni va con API que pueda ver. Pero si tienen un ejecutable con todos los datos. Al descargarlo (en wine con OSX) veo que tiene una base de datos que quizás sí tenga todos los datos desagregados. Es un .mdb (base de dato de Microsoft Office) de 132MB.\n",
    "\n",
    "Usé esta página para exportar los datos\n",
    "https://www.codeenigma.com/community/blog/using-mdbtools-nix-convert-microsoft-access-mysql\n",
    "\n",
    "```sql\n",
    "mdb-schema Europeas2014.mdb mysql > schema.sql\n",
    "mkdir sql\n",
    "for i in $( mdb-tables Europeas2014.mdb ); do echo $i ; mdb-export -D \"%Y-%m-%d %H:%M:%S\" -H -I mysql Europeas2014.mdb $i > sql/$i.sql; done\n",
    "mysql -uroot -ppassword europeas < schema.sql\n",
    "for i in $( ls sql/ ); do echo $i ; mysql -uroot -ppassword europeas < sql/$i ; done\n",
    "```\n",
    "Dará error al importar el sql Partidos, pero es un fichero raro binario, ni idea de lo que es.\n",
    "\n",
    "Si miras la tabla \"resultados\" verás que pone:\n"
   ]
  },
  {
   "cell_type": "code",
   "execution_count": null,
   "metadata": {},
   "outputs": [],
   "source": [
    "def init():\n",
    "    %matplotlib inline\n",
    "    global os,pymysql,pd\n",
    "    import os\n",
    "    import pymysql\n",
    "    import pandas as pd\n",
    "    \n",
    "    global conn\n",
    "    host = os.getenv('MYSQL_HOST')\n",
    "    port = os.getenv('MYSQL_PORT')\n",
    "    user = os.getenv('MYSQL_USER')\n",
    "    password = os.getenv('MYSQL_PASSWORD')\n",
    "    database = 'europeas'    \n",
    "    \n",
    "    conn = pymysql.connect(\n",
    "    host=host,\n",
    "    port=int(port),\n",
    "    user=user,\n",
    "    passwd=password,\n",
    "    db=database,\n",
    "    charset='utf8mb4')\n",
    "\n",
    "init()"
   ]
  },
  {
   "cell_type": "code",
   "execution_count": null,
   "metadata": {},
   "outputs": [],
   "source": [
    "#test connection\n",
    "query=\"select * from resultados limit 1\"\n",
    "df = pd.read_sql_query(query,conn)\n",
    "df.to_dict('index')"
   ]
  },
  {
   "cell_type": "markdown",
   "metadata": {},
   "source": [
    "Esto quiere decir que la información de los nombres está codificada. Por ejemplo para saber qué distrito es `CANDIDATURA: 0002`\n"
   ]
  },
  {
   "cell_type": "code",
   "execution_count": null,
   "metadata": {},
   "outputs": [],
   "source": [
    "query=\"select * from candidaturas where candidatura=0002;\"\n",
    "df = pd.read_sql_query(query,conn)\n",
    "df.to_dict('index')\n"
   ]
  },
  {
   "cell_type": "markdown",
   "metadata": {},
   "source": [
    "## Resultados por municipio\n",
    "\n",
    "Como los datos están consignados, si quiero saber lo que votó en mi pueblo \"Soto del Barco\", primero tengo que sacar su consigna:"
   ]
  },
  {
   "cell_type": "code",
   "execution_count": null,
   "metadata": {},
   "outputs": [],
   "source": [
    "query=\"select * from municipios where nombre='Soto del Barco'\"\n",
    "df = pd.read_sql_query(query,conn)\n",
    "df.to_dict('index')\n"
   ]
  },
  {
   "cell_type": "code",
   "execution_count": null,
   "metadata": {},
   "outputs": [],
   "source": [
    "query=\"select * from municipios where AUTONOMIA=03 and PROVINCIA=33 and MUNICIPIO=069\"\n",
    "df = pd.read_sql_query(query,conn)\n",
    "df"
   ]
  },
  {
   "cell_type": "markdown",
   "metadata": {},
   "source": [
    "Ahora puedo pedir los resultados donde se cumplen esos criterios:"
   ]
  },
  {
   "cell_type": "code",
   "execution_count": null,
   "metadata": {},
   "outputs": [],
   "source": [
    "query=\"\"\"select candidatura,votos_act \n",
    "         from resultados \n",
    "         where AUTONOMIA=03 and PROVINCIA=33 and MUNICIPIO=069\n",
    "         and votos_act>0\n",
    "         order by votos_act desc;\"\"\"\n",
    "df = pd.read_sql_query(query,conn)\n",
    "df.to_dict('index')\n",
    "\n"
   ]
  },
  {
   "cell_type": "markdown",
   "metadata": {},
   "source": [
    "y para ver esos nombres:"
   ]
  },
  {
   "cell_type": "code",
   "execution_count": null,
   "metadata": {},
   "outputs": [],
   "source": [
    "query=\"\"\"select c.sigla,votos_act,PVOTOS_ACT \n",
    "         from resultados as r \n",
    "         join candidaturas as c on r.candidatura=c.candidatura \n",
    "         where AUTONOMIA=03 and PROVINCIA=33 and MUNICIPIO=069\n",
    "         and votos_act>0\n",
    "         order by votos_act desc;\"\"\"\n",
    "df = pd.read_sql_query(query,conn)\n",
    "df.to_dict('index')\n"
   ]
  },
  {
   "cell_type": "markdown",
   "metadata": {},
   "source": [
    "Para ver que vamos bien podemos mirar los resultados [en la web](http://elecciones.mir.es/resultados2014/99PE/DPE0333906999.htm?d=533), dentro del app:\n",
    "\n",
    "![Soto del Barco](sotodelbarco.png)\n",
    "\n"
   ]
  },
  {
   "cell_type": "markdown",
   "metadata": {},
   "source": [
    "# Histograma de % de votos por partido y Municipio\n",
    "\n",
    "El modelo se basa en comparar el % de votos en cada unidad, con el conseguido en todas las unidades."
   ]
  },
  {
   "cell_type": "code",
   "execution_count": null,
   "metadata": {},
   "outputs": [],
   "source": [
    "#Algunas funciones para sacar datos del DB o hacer gráficas\n",
    "import numpy as np\n",
    "import matplotlib.pyplot as plt\n",
    "import scipy.stats as stats\n",
    "import os\n",
    "\n",
    "def get_todos_votos():\n",
    "    query=\"\"\"select c.candidatura,c.sigla,r.PVOTOS_ACT,r.VOTOS_ACT,\n",
    "         r.AUTONOMIA,r.PROVINCIA,r.MUNICIPIO,r.DISTRITO\n",
    "         from resultados as r \n",
    "         join candidaturas as c on r.candidatura=c.candidatura \n",
    "         and r.PVOTOS_ACT >0\n",
    "         order by c.sigla asc;\"\"\"\n",
    "    return pd.read_sql_query(query,conn)\n",
    "\n",
    "def get_no_votantes():\n",
    "    query=\"select CENSO_ACT,VOTOS_ACT,PVOTOS_ACT,PVBLAN_ACT,PVNULOS_ACT, \"+\\\n",
    "    \"AUTONOMIA,PROVINCIA,MUNICIPIO,DISTRITO \"+\\\n",
    "    \"from escrutinio as e \"+\\\n",
    "    \"where\"+\\\n",
    "    \" e.CENSO_ACT>0;\"\n",
    "    return pd.read_sql_query(query,conn)\n",
    "\n",
    "def get_taxonomy(sitio):\n",
    "    \"\"\"\n",
    "    get AUTONOMIA,PROVINCIA,MUNICIPIO\n",
    "    \"\"\"\n",
    "    query=\"select * from municipios where nombre='\"+sitio+\"'\"\n",
    "    df = pd.read_sql_query(query,conn)\n",
    "    lugar=df.to_dict('index')\n",
    "    \n",
    "    #print(\"lugar\",lugar)\n",
    "    #Check if it corresponds in municipios to several items, e.g. tramos\n",
    "    if (len(lugar.keys())>1):\n",
    "        print(lugar)\n",
    "        raise RuntimeError('Más de un lugar con ese nombre: '+sitio)\n",
    "    else:\n",
    "        lugar=lugar[0]\n",
    "    return lugar\n",
    "\n",
    "def get_distritos(lugar,verbose=False):\n",
    "    #Buscar todos los distritos asociados en resultados con esa combinacion de AUTONOMIA,PROVINCIA,MUNICIPIO\n",
    "    query=\"select distinct distrito from resultados where \"+\\\n",
    "      \"AUTONOMIA=\"+lugar['AUTONOMIA']+\\\n",
    "      \" and PROVINCIA=\"+lugar['PROVINCIA']+\\\n",
    "      \" and MUNICIPIO=\"+lugar['MUNICIPIO']\n",
    "    distritos = pd.read_sql_query(query,conn)\n",
    "    if verbose:\n",
    "        print(\"distritos\",distritos)\n",
    "    if 'distrito' in distritos.columns:\n",
    "        return distritos['distrito'].values\n",
    "    else:\n",
    "        return [\"00\"]\n",
    "\n",
    "def get_ganador_lugar(votos_lugar,verbose=False):\n",
    "    \"\"\"Dados los resultados de un lugar, \n",
    "    devuelve las siglas del ganador\"\"\"\n",
    "    if verbose: print(votos_lugar)\n",
    "    ganador=votos_lugar.loc[votos_lugar['PVOTOS_ACT'].idxmax()]['sigla']\n",
    "    return ganador\n",
    "\n",
    "\n",
    "def get_escrutinio_lugar(lugar,distrito='00'):\n",
    "    query=\"select MESAS_ACT,CENSO_ACT,VOTOS_ACT,PVOTOS_ACT,VBLAN_ACT,PVBLAN_ACT,VNULOS_ACT,PVNULOS_ACT \"+\\\n",
    "    \"from escrutinio as e \"+\\\n",
    "    \"where\"+\\\n",
    "    \" e.AUTONOMIA=\"+lugar['AUTONOMIA']+\\\n",
    "    \" and e.PROVINCIA=\"+lugar['PROVINCIA']+\\\n",
    "    \" and e.DISTRITO=\"+distrito+\\\n",
    "    \" and e.MUNICIPIO=\"+lugar['MUNICIPIO']+\\\n",
    "    \";\"\n",
    "    escrutinio_lugar = pd.read_sql_query(query,conn)\n",
    "    return escrutinio_lugar\n",
    "\n",
    "def get_name(lugar,verbose=False):\n",
    "    \"\"\"\n",
    "    Get the name of a lugar={'AUTONOMIA':00,'PROVINCIA':00,'MUNICIPIO'}\n",
    "    \"\"\"\n",
    "    query=\"select distinct nombre from municipios where \"+\\\n",
    "      \"AUTONOMIA=\"+lugar['AUTONOMIA']+\\\n",
    "      \" and PROVINCIA=\"+lugar['PROVINCIA']+\\\n",
    "      \" and MUNICIPIO=\"+lugar['MUNICIPIO']\n",
    "\n",
    "    sitio = pd.read_sql_query(query,conn)\n",
    "    if verbose:\n",
    "        print(\"sitio: \",sitio)\n",
    "    if len(sitio)==0:\n",
    "        sitio=\"@A:\"+lugar['AUTONOMIA']+\"-P:\"+lugar['PROVINCIA']+\"-M:\"+lugar['MUNICIPIO']\n",
    "    else:\n",
    "        sitio = sitio['nombre'].values[0]\n",
    "    return sitio\n",
    "\n",
    "def single_plot(k,nbins,title,p_datos_nacional,p_datos_lugar,datos_lugar):\n",
    "    t_range = np.linspace(0,100,nbins)\n",
    "    print(title,end=' ',flush=True)\n",
    "    n, bins, patches = plt.hist(p_datos_nacional, nbins, density=True, facecolor='b', alpha=0.75)\n",
    "    plt.axvline(x=p_datos_lugar,linewidth=5,color='r')\n",
    "    #Probability Density Function, with a Gaussian Kernel\n",
    "    bw_values =  [None]#,.1,'scott','silverman'] #kernels for the PDF\n",
    "    for i, bw in enumerate(bw_values):\n",
    "        kde = stats.gaussian_kde(p_datos_nacional,bw_method=bw) \n",
    "        plt.plot(t_range,kde(t_range),lw=2, label='bw = '+str(bw))\n",
    "        # print(np.sum(kde(t_range))) #this value is not 1 because the kernel (Gaussian) extends to infinity\n",
    "        # enven when a normalized histogram, whose area sums up =1, the kernel makes it >1 (or less when kernel(x) extends <0)\n",
    "    minx=min([np.percentile(p_datos_nacional,1),p_datos_lugar])\n",
    "    maxx=max([np.percentile(p_datos_nacional,99),p_datos_lugar])\n",
    "    plt.xlim(minx, maxx)\n",
    "    plt.title(title+\" \"+str(datos_lugar))\n",
    "    plt.grid(True)\n",
    "\n",
    "def distrito_spread(sitio,todos,distrito='00',show_plot=False, verbose=False):\n",
    "    cols=4   #plot columns\n",
    "    rows=3 #len(votos_lugar)/4 +1\n",
    "    nbins=100 #bins for the histograms\n",
    "    folder='plots/'\n",
    "    if not os.path.exists(folder):\n",
    "        os.makedirs(folder)\n",
    "\n",
    "    fig=plt.figure(figsize=(15,10))\n",
    "    print(sitio+\" \"+str(distrito))\n",
    "    fig.subplots_adjust(top=1.2)\n",
    "    #get indexer\n",
    "    lugar=get_taxonomy(sitio)\n",
    "    loc=lugar['AUTONOMIA']+\"_\"+\\\n",
    "        lugar['PROVINCIA']+\"_\"+\\\n",
    "        lugar['MUNICIPIO']+\"_\"+\\\n",
    "        distrito\n",
    "    if verbose:\n",
    "                print(loc)\n",
    "    p_todos_no_votos=todos['PVOTOS_ACT']\n",
    "    p_este_no_votos=todos.loc[loc,'PVOTOS_ACT']\n",
    "    este_no_votos=todos.loc[loc,'VOTOS_ACT']\n",
    "    k=1\n",
    "    title=sitio+\" \"+str(distrito)+'-> Abs.'\n",
    "    plt.subplot(rows,cols,k)\n",
    "    single_plot(k,nbins,title,p_todos_no_votos,p_este_no_votos,este_no_votos)\n",
    "    #each party\n",
    "    #the complex call gets the first cols*rows names of the parties with most % of votes\n",
    "    for party in todos.loc[loc].filter(like='v_').sort_values(ascending=False).index[0:(cols*rows)-1]:\n",
    "        pparty='p_'+party[2:]\n",
    "        vparty=party\n",
    "        if verbose:\n",
    "                print(\"k, p: \",k,todos.loc[loc,pparty])\n",
    "        partido=party[2:]\n",
    "        p_todos_partido=todos[todos[pparty]>0][pparty]\n",
    "        p_este_partido=todos.loc[loc,pparty]\n",
    "        este_partido=todos.loc[loc,vparty]\n",
    "        k=k+1\n",
    "        plt.subplot(rows,cols,k)\n",
    "        single_plot(k,nbins,partido,p_todos_partido,p_este_partido,este_partido)\n",
    "    \n",
    "    plt.savefig(folder+str(sitio)+\"-\"+str(distrito)+'.png',bbox_inches = 'tight')\n",
    "    if show_plot:\n",
    "        plt.show()\n",
    "    plt.gcf().clear()\n",
    "    \n"
   ]
  },
  {
   "cell_type": "code",
   "execution_count": null,
   "metadata": {},
   "outputs": [],
   "source": [
    "todos_votos     = get_todos_votos()\n",
    "todos_votos"
   ]
  },
  {
   "cell_type": "code",
   "execution_count": null,
   "metadata": {},
   "outputs": [],
   "source": [
    "no_votantes = get_no_votantes()\n",
    "no_votantes"
   ]
  },
  {
   "cell_type": "code",
   "execution_count": null,
   "metadata": {},
   "outputs": [],
   "source": [
    "#not used make_loc_key\n",
    "def make_loc_key(dataframe,key='loc'):\n",
    "    dataframe[key]=dataframe['AUTONOMIA']+\"_\"+\\\n",
    "                   dataframe['PROVINCIA']+\"_\"+\\\n",
    "                   dataframe['MUNICIPIO']+\"_\"+\\\n",
    "                   dataframe['DISTRITO']\n",
    "    return dataframe\n",
    "\n",
    "#todos=todos_votos.merge(no_votantes,on=['AUTONOMIA','PROVINCIA','MUNICIPIO','DISTRITO'],how='outer',suffixes=['_v','_nv'])\n",
    "no_votantes=make_loc_key(no_votantes)\n",
    "todos_votos=make_loc_key(todos_votos)\n",
    "todos_votos\n"
   ]
  },
  {
   "cell_type": "code",
   "execution_count": null,
   "metadata": {},
   "outputs": [],
   "source": [
    "#Use 'loc' as the index\n",
    "todos=no_votantes\n",
    "todos.index=todos['loc']\n",
    "todos_votos.index=todos_votos['loc']"
   ]
  },
  {
   "cell_type": "code",
   "execution_count": null,
   "metadata": {},
   "outputs": [],
   "source": [
    "#order of parties, by total votes\n",
    "partidos=todos_votos[['VOTOS_ACT','sigla']].groupby(['sigla']).sum()\\\n",
    "    .sort_values(by='VOTOS_ACT',ascending=False).index"
   ]
  },
  {
   "cell_type": "code",
   "execution_count": null,
   "metadata": {},
   "outputs": [],
   "source": [
    "for sigla in partidos:\n",
    "    todos[\"p_\"+sigla]=0\n",
    "    todos[\"v_\"+sigla]=0\n",
    "todos.head(2)"
   ]
  },
  {
   "cell_type": "code",
   "execution_count": null,
   "metadata": {},
   "outputs": [],
   "source": [
    "i=0\n",
    "t=len(todos_votos)\n",
    "for index,row in todos_votos.iterrows():\n",
    "    todos.loc[index,\"p_\"+row['sigla']]=row['PVOTOS_ACT']\n",
    "    todos.loc[index,\"v_\"+row['sigla']]=row['VOTOS_ACT']\n",
    "    i+=1\n",
    "    if i%1000==0: print(\"Filling votes: {:.1f}% ({} of {}) done\".format(i/t*100,i,t),end=\"\\r\")\n",
    "print(\"done\") \n",
    "todos\n"
   ]
  },
  {
   "cell_type": "code",
   "execution_count": null,
   "metadata": {},
   "outputs": [],
   "source": [
    "todos.hist(column=['PVOTOS_ACT','PVBLAN_ACT','PVNULOS_ACT'],figsize=(10,10),bins=100,density=1);"
   ]
  },
  {
   "cell_type": "markdown",
   "metadata": {},
   "source": [
    "---\n",
    "\n",
    "# Ejemplo con un sitio"
   ]
  },
  {
   "cell_type": "code",
   "execution_count": null,
   "metadata": {},
   "outputs": [],
   "source": [
    "sitio='Madrid'"
   ]
  },
  {
   "cell_type": "code",
   "execution_count": null,
   "metadata": {},
   "outputs": [],
   "source": [
    "lugar=get_taxonomy(sitio)\n",
    "lugar"
   ]
  },
  {
   "cell_type": "code",
   "execution_count": null,
   "metadata": {},
   "outputs": [],
   "source": [
    "get_distritos(lugar)"
   ]
  },
  {
   "cell_type": "code",
   "execution_count": null,
   "metadata": {},
   "outputs": [],
   "source": [
    "votos_lugar=get_votos_lugar(lugar,todos,distrito='01')\n",
    "votos_lugar"
   ]
  },
  {
   "cell_type": "code",
   "execution_count": null,
   "metadata": {},
   "outputs": [],
   "source": [
    "distrito_spread(sitio,todos,distrito='00',show_plot=True ,verbose=True)"
   ]
  },
  {
   "cell_type": "code",
   "execution_count": null,
   "metadata": {},
   "outputs": [],
   "source": [
    "#distrito_spread(sitio,distrito,get_votos_lugar(lugar),todos_votos,no_votantes,get_escrutinio_lugar(lugar))\n",
    "init()\n",
    "#nombres por volumen de votos\n",
    "nombres=pd.read_sql_query(\"select distinct nombre from municipios ORDER BY RAND();\",conn)[1:10]\n",
    "for index,row in nombres.iterrows():\n",
    "    sitio=row['nombre']\n",
    "    lugar=get_taxonomy(sitio)\n",
    "    distritos = get_distritos(lugar)\n",
    "    for distrito in distritos:  \n",
    "        distrito_spread(sitio,todos,distrito=distrito,show_plot=False,verbose=False)\n",
    "        "
   ]
  },
  {
   "cell_type": "code",
   "execution_count": null,
   "metadata": {},
   "outputs": [],
   "source": [
    "sitio='Valencia'\n",
    "lugar=get_taxonomy(sitio)\n",
    "print(lugar)\n",
    "distritos = get_distritos(lugar)\n",
    "#print(\"{} distritos, usando: {}\".format(len(distritos),distritos[-1]))\n",
    "#distrito=distritos[-1] \n",
    "print(\"Numero de distritos: \",len(distritos))\n",
    "for distrito in distritos: \n",
    "        distrito_spread(sitio,todos,distrito=distrito,show_plot=True)"
   ]
  },
  {
   "cell_type": "markdown",
   "metadata": {},
   "source": [
    "# Distritos estratégicos\n",
    "\n",
    "Buscar los distritos más estratégicos para mandar un mensaje democrático que ayude al partido en cuestión."
   ]
  },
  {
   "cell_type": "code",
   "execution_count": null,
   "metadata": {},
   "outputs": [],
   "source": [
    "pvotos=todos['PVOTOS_ACT'].values\n",
    "def get_maxp(pvotos,show_plot=False,party=\"\"):\n",
    "    print(\".\",end=\"\")\n",
    "    if len(pvotos)==1:\n",
    "        return pvotos[0]\n",
    "    kde = stats.gaussian_kde(pvotos,bw_method=None) \n",
    "    nbins=1000\n",
    "    t_range = np.linspace(0,100,nbins)\n",
    "    pdf = kde(t_range)\n",
    "    max_pdf = max(pdf)\n",
    "    max_p=list(pdf).index(max_pdf)*100/nbins\n",
    "    if show_plot:\n",
    "        if party != \"\":\n",
    "            plt.title(party)\n",
    "        plt.plot(t_range,kde(t_range));\n",
    "        plt.axvline(x=max_p,linewidth=5,color='r');\n",
    "        plt.show();\n",
    "    return max_p\n",
    "\n",
    "maxp_novotos=get_maxp(pvotos,show_plot=True,party='no votantes')\n",
    "print(maxp_novotos)\n",
    "no_votantes[\"delta_pvotos\"]=maxp_novotos-no_votantes['PVOTOS_ACT']\n",
    "no_votantes[\"delta_votos\"]=no_votantes['CENSO_ACT']*no_votantes[\"delta_pvotos\"]/100\n",
    "no_votantes.sort_values('delta_votos',ascending=False).head(10)"
   ]
  },
  {
   "cell_type": "code",
   "execution_count": null,
   "metadata": {},
   "outputs": [],
   "source": [
    "# Histograma nacional de votos para un partido\n",
    "partidos_siglas = todos_votos['sigla'].unique()\n",
    "partidos = pd.DataFrame({'sigla':partidos_siglas})\n",
    "partidos['maxp']=0\n",
    "    \n",
    "def get_party_votes(party,all_votes):\n",
    "    return all_votes[all_votes['sigla']==party]['PVOTOS_ACT'].values\n",
    "    \n",
    "party=\"PODEMOS\"\n",
    "print(get_party_votes(party,todos_votos))\n",
    "get_maxp(get_party_votes(party,todos_votos),party=party,show_plot=True)"
   ]
  },
  {
   "cell_type": "code",
   "execution_count": null,
   "metadata": {},
   "outputs": [],
   "source": [
    "#Maxima probabilidad de voto por partido\n",
    "partidos['maxp'] = partidos.apply(lambda x: get_maxp(get_party_votes(x['sigla'],todos_votos),\\\n",
    "                                                               party=x['sigla'],show_plot=False), axis=1)\n",
    "partidos=partidos.sort_values('maxp',ascending=False)\\\n",
    "                    .reset_index(drop=True)\n",
    "partidos"
   ]
  },
  {
   "cell_type": "markdown",
   "metadata": {},
   "source": [
    "**Hipótesis**: Los no votantes, si votan, votan proporcionalmente a lo votado **en su distrito,** y no proporcionalmente a lo que vota España."
   ]
  },
  {
   "cell_type": "markdown",
   "metadata": {},
   "source": [
    "# Clase A: Distritos de ganancia absoluta\n",
    "\n",
    "Aquellos donde se vota poco, pero gana nuestro partido"
   ]
  },
  {
   "cell_type": "code",
   "execution_count": null,
   "metadata": {},
   "outputs": [],
   "source": [
    "\"\"\"\n",
    "1. Fijar partido\n",
    "2. Filtrar donde novotos < maxp\n",
    "3. Clase A: Filtrar donde partido es ganador\n",
    "4. Buscar el delta de ganancia máxima: Si el distritio salta a maxp, el % que va a los ganadores..\n",
    "4a. Ordenar por los votos ganados.\n",
    "\"\"\"\n",
    "#no_votantes = get_no_votantes()\n",
    "\n",
    "#1 Fijar partido\n",
    "partido=\"PSOE\"\n",
    "\n",
    "\n",
    "#2 Filtrar donde novotos < maxp\n",
    "cols=['AUTONOMIA','PROVINCIA','MUNICIPIO','DISTRITO','PVOTOS_ACT','VOTOS_ACT','CENSO_ACT']\n",
    "potenciales_no = no_votantes[no_votantes['PVOTOS_ACT']<maxp_novotos][cols]\n",
    "potenciales_no.reset_index(drop=True,inplace=True)\n",
    "print(\"{} ({:.0f}%) lugares por debajo de la media de {}% de participación\".format(len(potenciales_no),\n",
    "                                                                            len(potenciales_no)/len(no_votantes)*100,\n",
    "                                                                            maxp_novotos))\n",
    "#no usar agregados\n",
    "potenciales_no=potenciales_no[potenciales_no[\"MUNICIPIO\"]!='000']\n",
    "\n",
    "#3 Filtrar donde gana partido\n",
    "potenciales_partido=potenciales_no.head(0)\n",
    "for index,row in potenciales_no.iterrows():\n",
    "    lugar={'AUTONOMIA': row['AUTONOMIA'],'PROVINCIA': row['PROVINCIA'],'MUNICIPIO': row['MUNICIPIO']}\n",
    "    votos_lugar=get_votos_lugar(lugar,todos_votos,distrito=row['DISTRITO'],verbose=False)\n",
    "    row['ganador']=partido\n",
    "    if len(votos_lugar)!=0:\n",
    "        ganador_lugar=get_ganador_lugar(votos_lugar,verbose=False)\n",
    "        if ganador_lugar == partido:\n",
    "            potenciales_partido=potenciales_partido.append(row)\n",
    "    print(\"{} of {}, ({} potenciales)\".format(index,len(potenciales_no),len(potenciales_partido)),end='\\r')\n",
    "\n",
    "\n",
    "\n",
    "potenciales_partido.reset_index(drop=True,inplace=True)\n",
    "potenciales_partido\n"
   ]
  },
  {
   "cell_type": "code",
   "execution_count": null,
   "metadata": {},
   "outputs": [],
   "source": [
    "print(\"HAY {} distritos clase A\".format(len(potenciales_partido)))\n",
    "potenciales_partido.reset_index(drop=True,inplace=True)"
   ]
  },
  {
   "cell_type": "code",
   "execution_count": null,
   "metadata": {},
   "outputs": [],
   "source": [
    "#4 Repartir el delta de nuevos votos\n",
    "\n",
    "def get_votos_vp_partido(votos_lugar,partido):\n",
    "    \"\"\"\n",
    "    returns [votos,pvotos] from a pd.votos_lugar and a \"partido\"\n",
    "    \"\"\"\n",
    "    votos=votos_lugar[votos_lugar['sigla']==partido]\n",
    "    if len(votos)==0:\n",
    "        return [0,0]\n",
    "    else:\n",
    "        return [votos['VOTOS_ACT'].values[0],votos['PVOTOS_ACT'].values[0]]\n",
    "    \n",
    "#quitar donde ya hay más votos que el pmax en otros partidos\n",
    "verbose=True\n",
    "for index,row in potenciales_partido.head(10).iterrows():\n",
    "    lugar={'AUTONOMIA': row['AUTONOMIA'],\n",
    "         'PROVINCIA': row['PROVINCIA'],\n",
    "         'MUNICIPIO': row['MUNICIPIO']}\n",
    "    lugar['NOMBRE']=get_name(lugar)\n",
    "    if verbose: print(\"lugar: {}\".format(lugar))\n",
    "    \n",
    "    #quitar agregados, ya no deber'ia haber\n",
    "    if \"@\" in lugar['NOMBRE']:\n",
    "        print(lugar['NOMBRE'],\"Drop agregado\")\n",
    "        potenciales.drop([index],inplace=True)\n",
    "        continue\n",
    "    votos_lugar=get_votos_lugar(lugar,todos_votos,distrito=row['DISTRITO'])\n",
    "    #Repartir votos nuevos\n",
    "    deltap=maxp_novotos - row['PVOTOS_ACT'] \n",
    "    delta=round(deltap)*row['CENSO_ACT'] \n",
    "    partidos['delta']=0\n",
    "    print(\"{}, con {} censo, gana {:.2f}% ({}) votos:\".format(lugar['NOMBRE'],row['CENSO_ACT'],deltap,delta))\n",
    "    for index2,row2 in votos_lugar.iterrows():\n",
    "        partido2=row2['sigla']\n",
    "        ganancia=round(delta*row2['PVOTOS_ACT']/100)\n",
    "        if verbose:\n",
    "            print(\"\\t{}, con {}% gana {} votos \".format(row2['sigla'],row2['PVOTOS_ACT'],ganancia))\n",
    "        potenciales[\"d_\"+partido2]=ganancia\n",
    "        partidos[partidos['sigla']==row2['sigla']]['delta']+=ganancia\n",
    "        \n",
    "partidos"
   ]
  },
  {
   "cell_type": "markdown",
   "metadata": {},
   "source": [
    "# Votos\n",
    "\n",
    "Imagina que necesitamos x=1k votos.\n",
    "\n",
    "Lo que hago es que voy reyenando votos 1 a 1,  empezando por los distritos\n",
    "  1. donde es pre max_p en el partido y los no votantes. (VOTEN MAS)\n",
    "  2. donde es pre max_p en el partido y el c_p de no votantes es el mejor. (VOTEN MAS)\n",
    "  3. donde es pre max_p y d_P es menor que en el resto de partidos. (VOTEN A MI)\n",
    "  4. donde es su d_P es menor que en el resto de partidos. (VOTEN A MI)\n",
    "   \n",
    "\n"
   ]
  },
  {
   "cell_type": "code",
   "execution_count": null,
   "metadata": {},
   "outputs": [],
   "source": [
    "# Lugar con % de participación menor que la media, que no sean agregados, y más votos\n",
    "query=\"select AUTONOMIA,PROVINCIA,MUNICIPIO,DISTRITO,pvotos_act,votos_act \\\n",
    "     from escrutinio \\\n",
    "     where MUNICIPIO<>'000'\\\n",
    "     order by PVOTOS_ACT asc, VOTOS_ACT desc limit 1\"\n",
    "lugares = pd.read_sql_query(query,conn).to_dict('records')\n",
    "for lugar in lugares:\n",
    "    print(lugar)\n",
    "    sitio=get_name(lugar)\n",
    "    distritos = get_distritos(lugar)\n",
    "    print(\"Numero de distritos: \",len(distritos))\n",
    "    for distrito in distritos:\n",
    "        escrutinio_lugar=get_escrutinio_lugar(lugar,distrito=distrito)\n",
    "        votos_lugar     =get_votos_lugar(lugar,todos_votos,distrito=distrito)  \n",
    "        distrito_spread(sitio,votos_lugar,todos_votos,no_votantes,escrutinio_lugar,distrito=distrito,show_plot=True)"
   ]
  },
  {
   "cell_type": "code",
   "execution_count": null,
   "metadata": {},
   "outputs": [],
   "source": [
    "round"
   ]
  },
  {
   "cell_type": "code",
   "execution_count": null,
   "metadata": {},
   "outputs": [],
   "source": [
    "votos_lugar"
   ]
  },
  {
   "cell_type": "code",
   "execution_count": null,
   "metadata": {},
   "outputs": [],
   "source": [
    "#merge non_voters ike a political party\n",
    "todos_votos     = get_todos_votos()\n",
    "print(no_votantes.columns)\n",
    "print(todos_votos.columns)\n",
    "\n",
    "pd.merge(no_votantes, todos_votos, on=['AUTONOMIA', 'PROVINCIA', 'MUNICIPIO','DISTRITO'])"
   ]
  },
  {
   "cell_type": "code",
   "execution_count": null,
   "metadata": {},
   "outputs": [],
   "source": []
  },
  {
   "cell_type": "code",
   "execution_count": null,
   "metadata": {},
   "outputs": [],
   "source": []
  },
  {
   "cell_type": "code",
   "execution_count": null,
   "metadata": {},
   "outputs": [],
   "source": []
  },
  {
   "cell_type": "code",
   "execution_count": null,
   "metadata": {},
   "outputs": [],
   "source": []
  },
  {
   "cell_type": "code",
   "execution_count": null,
   "metadata": {},
   "outputs": [],
   "source": []
  },
  {
   "cell_type": "markdown",
   "metadata": {},
   "source": [
    "---\n",
    "# Ley de d´HONT\n",
    "\n",
    "Según [la legislación de la JEC](http://www.juntaelectoralcentral.es/cs/jec/loreg/contenido?packedargs=idContenido=546541&letra=S), el sistema es similar a la Ley de D´Hont.\n",
    "\n",
    "Básicamente se dividen incrementalmente los votos por los escaños, y se elije el que tiene mayor número en cada división. \n",
    "\n",
    "Nota: Las elecciones europeas hasta 2024 no tienen umbral de votos (3% del censo normalmente). "
   ]
  },
  {
   "cell_type": "code",
   "execution_count": null,
   "metadata": {},
   "outputs": [],
   "source": [
    "def dhont(nSeats,votes,verbose=False):\n",
    "    \"\"\"\n",
    "    nSeats is the number of seats\n",
    "    votes is a dictionary with the key:value {'party':votes}\n",
    "    verbose is an option to print designation info\n",
    "    \"\"\"\n",
    "    t_votes=votes.copy()\n",
    "    seats={}\n",
    "    for key in votes: seats[key]=0\n",
    "    while sum(seats.values()) < nSeats:\n",
    "        max_v= max(t_votes.values())\n",
    "        next_seat=list(t_votes.keys())[list(t_votes.values()).index(max_v)]\n",
    "        if next_seat in seats:\n",
    "            seats[next_seat]+=1\n",
    "        else:\n",
    "            seats[next_seat]=1\n",
    "        \n",
    "        if verbose:\n",
    "            print(\"{} Escaño: {}\".format(sum(seats.values()),next_seat))\n",
    "            for key in t_votes: \n",
    "                print(\"\\t{:4.4} [{}]:\\t {:.1f}\".format(key,seats[key],t_votes[key]))\n",
    "            print(\"\\b\")\n",
    "        t_votes[next_seat]=votes[next_seat]/(seats[next_seat]+1)\n",
    "    for key in votes: \n",
    "        if seats[key]==0:\n",
    "            del seats[key]\n",
    "    return seats"
   ]
  },
  {
   "cell_type": "code",
   "execution_count": null,
   "metadata": {},
   "outputs": [],
   "source": [
    "# How many parties and how many seats are there?\n",
    "nSeats = 8\n",
    "#del votes\n",
    "votes = {'a':168,'b':104,'c':72,'d':64,'e':40}\n",
    "seats=dhont(nSeats,votes,verbose=False)\n",
    "seats"
   ]
  },
  {
   "cell_type": "code",
   "execution_count": null,
   "metadata": {},
   "outputs": [],
   "source": [
    "query=\"\"\"\n",
    "select c.sigla as partido,r.VOTOS_ACT as votos \n",
    "from resultados as r\n",
    "join candidaturas as c on r.candidatura=c.candidatura\n",
    "where AUTONOMIA=00 \n",
    "     and PROVINCIA=00 \n",
    "     and municipio=000 \n",
    "     and distrito=00 \n",
    "     and tramo=0 \n",
    "     order by votos;\"\"\"\n",
    "\n",
    "resultados_esp = pd.read_sql_query(query,conn)\n",
    "resultados_esp_dict = \\\n",
    "    dict(zip(resultados_esp.partido, resultados_esp.votos))\n",
    "#resultados_esp_dict=sorted(resultados_esp_dict.items(), key=lambda x: x[1], reverse=True) \n"
   ]
  },
  {
   "cell_type": "code",
   "execution_count": null,
   "metadata": {},
   "outputs": [],
   "source": [
    "#D'Hont de las ultimas elecciones\n",
    "nSeats = 54\n",
    "seats=dhont(nSeats,resultados_esp_dict,verbose=False)\n",
    "sorted(seats.items(), key=lambda x: x[1], reverse=True) \n"
   ]
  },
  {
   "cell_type": "code",
   "execution_count": null,
   "metadata": {},
   "outputs": [],
   "source": []
  },
  {
   "cell_type": "code",
   "execution_count": null,
   "metadata": {},
   "outputs": [],
   "source": []
  },
  {
   "cell_type": "code",
   "execution_count": null,
   "metadata": {},
   "outputs": [],
   "source": []
  },
  {
   "cell_type": "code",
   "execution_count": null,
   "metadata": {},
   "outputs": [],
   "source": []
  },
  {
   "cell_type": "code",
   "execution_count": null,
   "metadata": {},
   "outputs": [],
   "source": []
  },
  {
   "cell_type": "code",
   "execution_count": null,
   "metadata": {},
   "outputs": [],
   "source": []
  },
  {
   "cell_type": "code",
   "execution_count": null,
   "metadata": {},
   "outputs": [],
   "source": []
  },
  {
   "cell_type": "markdown",
   "metadata": {},
   "source": [
    "## GEOLOCALIZACIÓN\n",
    "\n",
    "Los datos geograficos salen de\n",
    "http://centrodedescargas.cnig.es/CentroDescargas/index.jsp\n",
    "\n",
    "También en formato mdb.\n",
    "mdb-schema --namespace geo Nomenclator_Municipios_EntidadesDePoblacion.mdb mysql > schema.sql\n",
    "mkdir sql\n",
    "for i in $( mdb-tables Nomenclator_Municipios_EntidadesDePoblacion.mdb ); do echo $i ; mdb-export -D \"%Y-%m-%d %H:%M:%S\" -H -I mysql -N geo Nomenclator_Municipios_EntidadesDePoblacion.mdb $i > sql/$i.sql; done\n",
    "mysql -uroot -ppassword europeas < schema.sql\n",
    "for i in $( ls sql/ ); do echo $i ; mysql -uroot -ppassword europeas < sql/$i ; done\n",
    "\n",
    "Hay dos entidades de lugar que son siempre 0:\n",
    "\n",
    "```sql\n",
    "select distinct COMARCA,TRAMO from resultados;\n",
    "+---------+-------+\n",
    "| COMARCA | TRAMO |\n",
    "+---------+-------+\n",
    "| 00      | 0     |\n",
    "+---------+-------+\n",
    "1 row in set (0.51 sec)\n",
    "``\n"
   ]
  },
  {
   "cell_type": "code",
   "execution_count": null,
   "metadata": {},
   "outputs": [],
   "source": []
  },
  {
   "cell_type": "code",
   "execution_count": null,
   "metadata": {},
   "outputs": [],
   "source": []
  },
  {
   "cell_type": "code",
   "execution_count": null,
   "metadata": {},
   "outputs": [],
   "source": []
  },
  {
   "cell_type": "code",
   "execution_count": null,
   "metadata": {},
   "outputs": [],
   "source": [
    "conn.close()"
   ]
  },
  {
   "cell_type": "code",
   "execution_count": null,
   "metadata": {},
   "outputs": [],
   "source": []
  }
 ],
 "metadata": {
  "kernelspec": {
   "display_name": "Python 3",
   "language": "python",
   "name": "python3"
  },
  "language_info": {
   "codemirror_mode": {
    "name": "ipython",
    "version": 3
   },
   "file_extension": ".py",
   "mimetype": "text/x-python",
   "name": "python",
   "nbconvert_exporter": "python",
   "pygments_lexer": "ipython3",
   "version": "3.7.1"
  }
 },
 "nbformat": 4,
 "nbformat_minor": 2
}
