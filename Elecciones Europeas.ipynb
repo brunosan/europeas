{
 "cells": [
  {
   "cell_type": "markdown",
   "metadata": {},
   "source": [
    "## Estrategia\n",
    "\n",
    "Calcular en qué unidades electorales es más fácil sacar votos, a la vez que podemos asignar quién sería el beneficiario de esa ganancia. Esto permite asignar visitas y mensajes a cada candidato. Estos mensajes pueden ser de pedir cambiar el voto, y de conseguir que los no votantes voten. La facilidad de cambiar el voto es proporcional a cómo de saturada esté la votación.\n",
    "\n",
    "\n",
    "## Hipótesis\n",
    "\n",
    "1. Los resultados de las votaciones son iguales a las anteriores, o extrapolaciones de la tendencia.\n",
    "2. El *efecto del esfuerzo* para ganar una % de votos satura en ambos extremos, es una gaussiana. En los extremos (cuando casi nadie o casi todos ya votan) cuesta mucho ganar votos, en el centro es más fácil.\n",
    "3. Los votos ganados tienen que salir de uno de estos dos sitios: a)de votos a otros partidos, cuya resistencia a cambiar es la misma gausiana que en 2. b) de motivar a los no votantes, que votarán en primera approximación proporcionalmente a predición de resultados. I.e. la estrategia puede ser \"ganar votos para un partido\" o \"id a votar\".\n",
    "4. El resultado del esfuerzo es proporcional al tamaño de la unidad de voto. Aunque el esfuerzo sea sobre el % de votos de una divisón electoral, hay divisiones con 100 candidatos, y otras con cientos de miles. \n",
    "5. Al ser España una circumscripción única para las Europeas, de listas cerradas, se puede asignar nombre a los votos ganados o perdidos en cada actuación. E.g. 10 votos más sacan al candidato X.\n",
    "* Por tanto, los efectos de los esfuerzos de voto se pueden asiganr a los candidatos correspodientes en la asignación de escaños. E.g. En el minicipio X se prevé que el esfuerzo es mínimo para sacar el escaño, y el mensaje es simplemente que voten.\n",
    "\n",
    "Por tanto, la idea es que, para cada escaño, calcular cuantos votos hacen falta para asignárselo. Luego ordenar los lugares por orden del resultado del esfuerzo. Uno podría minimizarlo con el coste del esfuerzo, pero en principio se ordena por el efecto del esfuerzo\n",
    "\n",
    "\n",
    "Dado un %% de votos, se asigna un tiron  Tx=gauss(x). Este tirón se tiene que compensar con una serie de tirones de Ta,Tb,Gc, ... y N. Siendo Ta=agauss(A) lo tirones negativos hasta que se consigue Tx. Tn es el tirón de los no votantes. El tirón de los no votantes tiene el effecto proporcional a los % de votos, por lo tanto afecta a todos. \n"
   ]
  },
  {
   "cell_type": "code",
   "execution_count": null,
   "metadata": {},
   "outputs": [],
   "source": [
    "%matplotlib inline\n"
   ]
  },
  {
   "cell_type": "markdown",
   "metadata": {},
   "source": [
    "## Datos\n",
    "\n",
    "* Sacar los datos de elecceiones de 2014 granulares de los municipios\n",
    "* Buscar los sitios de menor participación.\n",
    "\n",
    "* Sacar las diferencias de participación.\n",
    "\n",
    "\n",
    "Busque en Wikipedia, en github, en el boe, pero nadie tiene los CSV de resultados desagregados.\n",
    "\n",
    "Al final encontré la mayoría de datos en http://elecciones.mir.es/resultados2014/ini99v.htm\n",
    "\n",
    "Auqneu son provisionales al 99.77% me valen.\n",
    "No tienen opcion a descargas todo, ni va con API que pueda ver. Pero si tienen un ejecutable con todos los datos. Al descargarlo (en wine con OSX) veo que tiene una base de datos que quizás sí tenga todos los datos desagregados. Es un .mdb (base de dato de Microsoft Office) de 132MB.\n",
    "\n",
    "Usé esta página para exportar los datos\n",
    "https://www.codeenigma.com/community/blog/using-mdbtools-nix-convert-microsoft-access-mysql\n",
    "\n",
    "```sql\n",
    "mdb-schema Europeas2014.mdb mysql > schema.sql\n",
    "mkdir sql\n",
    "for i in $( mdb-tables Europeas2014.mdb ); do echo $i ; mdb-export -D \"%Y-%m-%d %H:%M:%S\" -H -I mysql Europeas2014.mdb $i > sql/$i.sql; done\n",
    "mysql -uroot -ppassword europeas < schema.sql\n",
    "for i in $( ls sql/ ); do echo $i ; mysql -uroot -ppassword europeas < sql/$i ; done\n",
    "```\n",
    "Dará error al importar el sql Partidos, pero es un fichero raro binario, ni idea de lo que es.\n",
    "\n",
    "Si miras la tabla \"resultados\" verás que pone:\n"
   ]
  },
  {
   "cell_type": "code",
   "execution_count": null,
   "metadata": {},
   "outputs": [],
   "source": [
    "#Connect to de DB\n",
    "import os\n",
    "import pymysql\n",
    "import pandas as pd\n",
    "\n",
    "host = os.getenv('MYSQL_HOST')\n",
    "port = os.getenv('MYSQL_PORT')\n",
    "user = os.getenv('MYSQL_USER')\n",
    "password = os.getenv('MYSQL_PASSWORD')\n",
    "database = 'europeas'\n",
    "\n",
    "conn = pymysql.connect(\n",
    "    host=host,\n",
    "    port=int(port),\n",
    "    user=user,\n",
    "    passwd=password,\n",
    "    db=database,\n",
    "    charset='utf8mb4')"
   ]
  },
  {
   "cell_type": "code",
   "execution_count": null,
   "metadata": {},
   "outputs": [],
   "source": [
    "#test connection\n",
    "query=\"select * from resultados limit 1\"\n",
    "df = pd.read_sql_query(query,conn)\n",
    "df.to_dict('index')"
   ]
  },
  {
   "cell_type": "markdown",
   "metadata": {},
   "source": [
    "Esto quiere decir que la información de los nombres está codificada. Por ejemplo para saber qué distrito es `CANDIDATURA: 0002`\n"
   ]
  },
  {
   "cell_type": "code",
   "execution_count": null,
   "metadata": {},
   "outputs": [],
   "source": [
    "query=\"select * from candidaturas where candidatura=0002;\"\n",
    "df = pd.read_sql_query(query,conn)\n",
    "df.to_dict('index')\n"
   ]
  },
  {
   "cell_type": "markdown",
   "metadata": {},
   "source": [
    "## Resultados por municipio\n",
    "\n",
    "Como los datos están consignados, si quiero saber lo que votó en mi pueblo \"Soto del Barco\", primero tengo que sacar su consigna:"
   ]
  },
  {
   "cell_type": "code",
   "execution_count": null,
   "metadata": {},
   "outputs": [],
   "source": [
    "query=\"select * from municipios where nombre='Soto del Barco'\"\n",
    "df = pd.read_sql_query(query,conn)\n",
    "df.to_dict('index')\n"
   ]
  },
  {
   "cell_type": "code",
   "execution_count": null,
   "metadata": {},
   "outputs": [],
   "source": [
    "query=\"select * from municipios where AUTONOMIA=03 and PROVINCIA=33 and MUNICIPIO=069\"\n",
    "df = pd.read_sql_query(query,conn)\n",
    "df"
   ]
  },
  {
   "cell_type": "markdown",
   "metadata": {},
   "source": [
    "Ahora puedo pedir los resultados donde se cumplen esos criterios:"
   ]
  },
  {
   "cell_type": "code",
   "execution_count": null,
   "metadata": {},
   "outputs": [],
   "source": [
    "query=\"\"\"select tramo,candidatura,votos_act \n",
    "         from resultados \n",
    "         where AUTONOMIA=03 and PROVINCIA=33 and MUNICIPIO=069\n",
    "         and votos_act>0\n",
    "         order by votos_act desc;\"\"\"\n",
    "df = pd.read_sql_query(query,conn)\n",
    "df.to_dict('index')\n",
    "\n"
   ]
  },
  {
   "cell_type": "markdown",
   "metadata": {},
   "source": [
    "y para ver esos nombres:"
   ]
  },
  {
   "cell_type": "code",
   "execution_count": null,
   "metadata": {},
   "outputs": [],
   "source": [
    "query=\"\"\"select c.sigla,votos_act,PVOTOS_ACT \n",
    "         from resultados as r \n",
    "         join candidaturas as c on r.candidatura=c.candidatura \n",
    "         where AUTONOMIA=03 and PROVINCIA=33 and MUNICIPIO=069\n",
    "         and votos_act>0\n",
    "         order by votos_act desc;\"\"\"\n",
    "df = pd.read_sql_query(query,conn)\n",
    "df.to_dict('index')\n"
   ]
  },
  {
   "cell_type": "markdown",
   "metadata": {},
   "source": [
    "Para ver que vamos bien podemos mirar los resultados [en la web](http://elecciones.mir.es/resultados2014/99PE/DPE0333906999.htm?d=533), dentro del app:\n",
    "\n",
    "![Soto del Barco](sotodelbarco.png)\n",
    "\n"
   ]
  },
  {
   "cell_type": "markdown",
   "metadata": {},
   "source": [
    "# Histograma de % de votos por partido y Municipio\n",
    "\n",
    "El modelo se basa en comparar el % de votos en cada unidad, con el conseguido en todas las unidades."
   ]
  },
  {
   "cell_type": "code",
   "execution_count": null,
   "metadata": {},
   "outputs": [],
   "source": [
    "query=\"\"\"select c.sigla,r.PVOTOS_ACT \n",
    "         from resultados as r \n",
    "         join candidaturas as c on r.candidatura=c.candidatura \n",
    "         and r.PVOTOS_ACT >0\n",
    "         order by c.sigla asc;\"\"\"\n",
    "todos_votos = pd.read_sql_query(query,conn)\n",
    "todos_votos.head(10)"
   ]
  },
  {
   "cell_type": "code",
   "execution_count": null,
   "metadata": {},
   "outputs": [],
   "source": []
  },
  {
   "cell_type": "code",
   "execution_count": null,
   "metadata": {},
   "outputs": [],
   "source": [
    "todos_votos.hist(by='sigla',figsize=(20,20),sharex=True,sharey=False,density=1);"
   ]
  },
  {
   "cell_type": "code",
   "execution_count": null,
   "metadata": {},
   "outputs": [],
   "source": [
    "query=\"select MESAS_ACT,CENSO_ACT,VOTOS_ACT,PVOTOS_ACT,VBLAN_ACT,PVBLAN_ACT,VNULOS_ACT,PVNULOS_ACT \"+\\\n",
    "    \"from escrutinio as e \"+\\\n",
    "    \"where\"+\\\n",
    "    \" e.CENSO_ACT>0;\"\n",
    "no_votantes = pd.read_sql_query(query,conn)\n",
    "len(no_votantes)"
   ]
  },
  {
   "cell_type": "code",
   "execution_count": null,
   "metadata": {},
   "outputs": [],
   "source": [
    "no_votantes.hist(column=['PVOTOS_ACT','PVBLAN_ACT','PVNULOS_ACT'],figsize=(10,10),bins=100,density=1);"
   ]
  },
  {
   "cell_type": "markdown",
   "metadata": {},
   "source": [
    "---\n",
    "\n",
    "# Ejemplo con un sitio"
   ]
  },
  {
   "cell_type": "code",
   "execution_count": null,
   "metadata": {},
   "outputs": [],
   "source": [
    "sitio='Gijon'\n",
    "distrito='00'"
   ]
  },
  {
   "cell_type": "code",
   "execution_count": null,
   "metadata": {},
   "outputs": [],
   "source": [
    "#get AUTONOMIA,PROVINCIA,MUNICIPIO\n",
    "query=\"select * from municipios where nombre='\"+sitio+\"'\"\n",
    "df = pd.read_sql_query(query,conn)\n",
    "lugar=df.to_dict('index')\n",
    "if (len(lugar.keys())>1):\n",
    "    print(lugar)\n",
    "    raise RuntimeError('Más de un lugar con ese nombre!')\n",
    "else:\n",
    "    lugar=lugar[0]         \n",
    "print(lugar)\n",
    "\n",
    "#DISTRITO IS NOT ON THE municipios table\n",
    "lugar['DISTRITO']=distrito\n",
    "\n",
    "#Check if it corresponds to several tramos\n",
    "query=\"select * from municipios where \"+\\\n",
    "      \"AUTONOMIA=\"+lugar['AUTONOMIA']+\\\n",
    "      \" and PROVINCIA=\"+lugar['PROVINCIA']+\\\n",
    "      \" and MUNICIPIO=\"+lugar['MUNICIPIO']\n",
    "ddf = pd.read_sql_query(query,conn).to_dict('index')\n",
    "if (len(ddf.keys())>1):\n",
    "    print(ddf)\n",
    "    raise RuntimeError('Más de un lugar en esa combinación de AUTONOMIA,PROVINCIA,MUNICIPIO!')\n",
    "\n",
    "#Comprobar si en los resultados hay varios tramos con esa combinacion de AUTONOMIA,PROVINCIA,MUNICIPIO\n",
    "query=\"select distinct distrito from resultados where \"+\\\n",
    "      \"AUTONOMIA=\"+lugar['AUTONOMIA']+\\\n",
    "      \" and PROVINCIA=\"+lugar['PROVINCIA']+\\\n",
    "      \" and DISTRITO=\"+lugar['DISTRITO']+\\\n",
    "      \" and MUNICIPIO=\"+lugar['MUNICIPIO']\n",
    "df = pd.read_sql_query(query,conn)\n",
    "ddf= df.to_dict('index')\n",
    "if (len(ddf.keys())>1):\n",
    "    print(ddf)\n",
    "    raise RuntimeError('Más de un DISTRITO de votaciones con en esa combinación de AUTONOMIA,PROVINCIA,MUNICIPIO!')\n",
    "ddf"
   ]
  },
  {
   "cell_type": "code",
   "execution_count": null,
   "metadata": {},
   "outputs": [],
   "source": [
    "query=\"select c.sigla,r.VOTOS_ACT,r.PVOTOS_ACT \"+\\\n",
    "    \"from resultados as r \"+\\\n",
    "    \"join candidaturas as c on r.candidatura=c.candidatura \"+\\\n",
    "    \"where r.VOTOS_ACT >0\"+\\\n",
    "    \" and r.AUTONOMIA=\"+lugar['AUTONOMIA']+\\\n",
    "    \" and r.PROVINCIA=\"+lugar['PROVINCIA']+\\\n",
    "    \" and r.DISTRITO=\"+lugar['DISTRITO']+\\\n",
    "    \" and r.MUNICIPIO=\"+lugar['MUNICIPIO']+\\\n",
    "    \" order by votos_act desc;\"\"\"\n",
    "votos_lugar = pd.read_sql_query(query,conn)\n",
    "votos_lugar.to_dict('index')"
   ]
  },
  {
   "cell_type": "code",
   "execution_count": null,
   "metadata": {},
   "outputs": [],
   "source": [
    "query=\"select MESAS_ACT,CENSO_ACT,VOTOS_ACT,PVOTOS_ACT,VBLAN_ACT,PVBLAN_ACT,VNULOS_ACT,PVNULOS_ACT \"+\\\n",
    "    \"from escrutinio as e \"+\\\n",
    "    \"where\"+\\\n",
    "    \" e.AUTONOMIA=\"+lugar['AUTONOMIA']+\\\n",
    "    \" and e.PROVINCIA=\"+lugar['PROVINCIA']+\\\n",
    "    \" and e.DISTRITO=\"+lugar['DISTRITO']+\\\n",
    "    \" and e.MUNICIPIO=\"+lugar['MUNICIPIO']+\\\n",
    "    \";\"\n",
    "escrutinio_lugar = pd.read_sql_query(query,conn)\n",
    "escrutinio_lugar.to_dict('index')"
   ]
  },
  {
   "cell_type": "code",
   "execution_count": null,
   "metadata": {},
   "outputs": [],
   "source": [
    "#partidos_con_votos\n",
    "query=\"select distinct c.sigla \"+\\\n",
    "    \"from candidaturas as c \"+\\\n",
    "    \"join resultados as r on r.candidatura=c.candidatura \"+\\\n",
    "    \"where r.VOTOS_ACT >0\"+\\\n",
    "    \" and r.AUTONOMIA=\"+lugar['AUTONOMIA']+\\\n",
    "    \" and r.PROVINCIA=\"+lugar['PROVINCIA']+\\\n",
    "    \" and r.DISTRITO=\"+lugar['DISTRITO']+\\\n",
    "    \" and r.MUNICIPIO=\"+lugar['MUNICIPIO']+\\\n",
    "    \";\"\"\"\n",
    "\n",
    "resultados_distrito = pd.read_sql_query(query,conn).values\n",
    "resultados_distrito\n",
    "\n"
   ]
  },
  {
   "cell_type": "code",
   "execution_count": null,
   "metadata": {},
   "outputs": [],
   "source": [
    "import numpy as np\n",
    "import matplotlib.pyplot as plt\n",
    "import scipy.stats as stats\n",
    "\n",
    "def single_plot(k,nbins,title,p_datos_nacional,p_datos_lugar,datos_lugar):\n",
    "    t_range = np.linspace(0,100,nbins)\n",
    "\n",
    "    plt.subplot(rows,cols,k)\n",
    "    print(title,end=' ',flush=True)\n",
    "\n",
    "    n, bins, patches = plt.hist(p_datos_nacional, nbins, density=True, facecolor='b', alpha=0.75)\n",
    "    plt.axvline(x=p_datos_lugar,linewidth=5,color='r')\n",
    "\n",
    "    #Probability Density Function, with a Gaussian Kernel\n",
    "    for i, bw in enumerate(bw_values):\n",
    "        kde = stats.gaussian_kde(p_datos_nacional,bw_method=bw) \n",
    "        plt.plot(t_range,kde(t_range),lw=2, label='bw = '+str(bw))\n",
    "        # print(np.sum(kde(t_range))) #this value is not 1 because the kernel (Gaussian) extends to infinity\n",
    "        # enven when a normalized histogram, whose area sums up =1, the kernel makes it >1 (or less when kernel(x) extends <0)\n",
    "\n",
    "    plt.xlim(np.percentile(p_datos_nacional,1), np.percentile(p_datos_nacional,99))\n",
    "    plt.title(title+\" \"+str(datos_lugar))\n",
    "    plt.grid(True)\n",
    "\n",
    "\n",
    "def distrito_spread(sitio,distrito,votos_lugar,todos_votos,no_votantes,escrutinio_lugar):\n",
    "    cols=4   #plot columns\n",
    "    rows=len(votos_lugar)/4 +1\n",
    "    nbins=100 #bins for the histograms\n",
    "    bw_values =  [None]#,.1,'scott','silverman'] #kernels for the PDF\n",
    "    \n",
    "    fig=plt.figure(figsize=(25,25))\n",
    "    print(sitio+\" \"+str(distrito))\n",
    "    fig.suptitle(sitio+\" \"+str(distrito),size=20)\n",
    "    fig.tight_layout(w_pad=2)\n",
    "\n",
    "    #each party\n",
    "    k=0\n",
    "    for partido in resultados_distrito:\n",
    "        k=k+1\n",
    "        partido=partido[0]\n",
    "    \n",
    "        p_todos_partido=todos_votos[todos_votos['sigla']==partido]['PVOTOS_ACT'].values\n",
    "        p_este_partido=votos_lugar[votos_lugar['sigla']==partido]['PVOTOS_ACT'].values\n",
    "        este_partido=votos_lugar[votos_lugar['sigla']==partido]['VOTOS_ACT'].values\n",
    "    \n",
    "        single_plot(k,nbins,partido,p_todos_partido,p_este_partido,este_partido)\n",
    "\n",
    "    #non voters\n",
    "    k=k+1\n",
    "    p_todos_no_votos=no_votantes['PVOTOS_ACT'].values\n",
    "    p_este_no_votos=escrutinio_lugar['PVOTOS_ACT'].values\n",
    "    este_no_votos=escrutinio_lugar['VOTOS_ACT'].values\n",
    "\n",
    "    single_plot(k,nbins,'no votantes',p_todos_no_votos,p_este_no_votos,este_no_votos)\n",
    "    plt.show()\n",
    "\n",
    "distrito_spread(sitio,distrito,votos_lugar,todos_votos,no_votantes,escrutinio_lugar)"
   ]
  },
  {
   "cell_type": "markdown",
   "metadata": {},
   "source": [
    "# Votos\n",
    "\n",
    "Imagina que necesitamos x=1k votos.\n",
    "\n",
    "Lo que hago es que voy reyenando votos 1 a 1,  empezando por los distritos\n",
    "  1. donde es pre max_p en el partido y los no votantes. (VOTEN MAS)\n",
    "  2. donde es pre max_p en el partido y el c_p de no votantes es el mejor. (VOTEN MAS)\n",
    "  3. donde es pre max_p y d_P es menor que en el resto de partidos. (VOTEN A MI)\n",
    "  4. donde es su d_P es menor que en el resto de partidos. (VOTEN A MI)\n",
    "   \n",
    "\n"
   ]
  },
  {
   "cell_type": "code",
   "execution_count": null,
   "metadata": {},
   "outputs": [],
   "source": []
  },
  {
   "cell_type": "code",
   "execution_count": null,
   "metadata": {},
   "outputs": [],
   "source": []
  },
  {
   "cell_type": "code",
   "execution_count": null,
   "metadata": {},
   "outputs": [],
   "source": []
  },
  {
   "cell_type": "code",
   "execution_count": null,
   "metadata": {},
   "outputs": [],
   "source": []
  },
  {
   "cell_type": "markdown",
   "metadata": {},
   "source": [
    "---\n",
    "# Ley de d´HONT\n",
    "\n",
    "Según [la legislación de la JEC](http://www.juntaelectoralcentral.es/cs/jec/loreg/contenido?packedargs=idContenido=546541&letra=S), el sistema es similar a la Ley de D´Hont.\n",
    "\n",
    "Básicamente se dividen incrementalmente los votos por los escaños, y se elije el que tiene mayor número en cada división. \n",
    "\n",
    "Nota: Las elecciones europeas hasta 2024 no tienen umbral de votos (3% del censo normalmente). "
   ]
  },
  {
   "cell_type": "code",
   "execution_count": null,
   "metadata": {},
   "outputs": [],
   "source": [
    "def dhont(nSeats,votes,verbose=False):\n",
    "    \"\"\"\n",
    "    nSeats is the number of seats\n",
    "    votes is a dictionary with the key:value {'party':votes}\n",
    "    verbose is an option to print designation info\n",
    "    \"\"\"\n",
    "    t_votes=votes.copy()\n",
    "    seats={}\n",
    "    for key in votes: seats[key]=0\n",
    "    while sum(seats.values()) < nSeats:\n",
    "        max_v= max(t_votes.values())\n",
    "        next_seat=list(t_votes.keys())[list(t_votes.values()).index(max_v)]\n",
    "        if next_seat in seats:\n",
    "            seats[next_seat]+=1\n",
    "        else:\n",
    "            seats[next_seat]=1\n",
    "        \n",
    "        if verbose:\n",
    "            print(\"{} Escaño: {}\".format(sum(seats.values()),next_seat))\n",
    "            for key in t_votes: \n",
    "                print(\"\\t{:4.4} [{}]:\\t {:.1f}\".format(key,seats[key],t_votes[key]))\n",
    "            print(\"\\b\")\n",
    "        t_votes[next_seat]=votes[next_seat]/(seats[next_seat]+1)\n",
    "    for key in votes: \n",
    "        if seats[key]==0:\n",
    "            del seats[key]\n",
    "    return seats"
   ]
  },
  {
   "cell_type": "code",
   "execution_count": null,
   "metadata": {},
   "outputs": [],
   "source": [
    "# How many parties and how many seats are there?\n",
    "nSeats = 8\n",
    "#del votes\n",
    "votes = {'a':168,'b':104,'c':72,'d':64,'e':40}\n",
    "seats=dhont(nSeats,votes,verbose=True)\n",
    "seats"
   ]
  },
  {
   "cell_type": "code",
   "execution_count": null,
   "metadata": {},
   "outputs": [],
   "source": [
    "query=\"\"\"\n",
    "select c.sigla as partido,r.VOTOS_ACT as votos \n",
    "from resultados as r\n",
    "join candidaturas as c on r.candidatura=c.candidatura\n",
    "where AUTONOMIA=00 \n",
    "     and PROVINCIA=00 \n",
    "     and municipio=000 \n",
    "     and distrito=00 \n",
    "     and tramo=0 \n",
    "     order by votos;\"\"\"\n",
    "\n",
    "resultados_esp = pd.read_sql_query(query,conn)\n",
    "resultados_esp_dict = \\\n",
    "    dict(zip(resultados_esp.partido, resultados_esp.votos))\n",
    "#resultados_esp_dict=sorted(resultados_esp_dict.items(), key=lambda x: x[1], reverse=True) \n"
   ]
  },
  {
   "cell_type": "code",
   "execution_count": null,
   "metadata": {},
   "outputs": [],
   "source": [
    "#D'Hont de las ultimas elecciones\n",
    "nSeats = 54\n",
    "seats=dhont(nSeats,resultados_esp_dict,verbose=False)\n",
    "sorted(seats.items(), key=lambda x: x[1], reverse=True) \n"
   ]
  },
  {
   "cell_type": "code",
   "execution_count": null,
   "metadata": {},
   "outputs": [],
   "source": []
  },
  {
   "cell_type": "code",
   "execution_count": null,
   "metadata": {},
   "outputs": [],
   "source": []
  },
  {
   "cell_type": "code",
   "execution_count": null,
   "metadata": {},
   "outputs": [],
   "source": []
  },
  {
   "cell_type": "code",
   "execution_count": null,
   "metadata": {},
   "outputs": [],
   "source": []
  },
  {
   "cell_type": "code",
   "execution_count": null,
   "metadata": {},
   "outputs": [],
   "source": []
  },
  {
   "cell_type": "code",
   "execution_count": null,
   "metadata": {},
   "outputs": [],
   "source": []
  },
  {
   "cell_type": "code",
   "execution_count": null,
   "metadata": {},
   "outputs": [],
   "source": []
  },
  {
   "cell_type": "markdown",
   "metadata": {},
   "source": [
    "## GEOLOCALIZACIÓN\n",
    "\n",
    "Los datos geograficos salen de\n",
    "http://centrodedescargas.cnig.es/CentroDescargas/index.jsp\n",
    "\n",
    "También en formato mdb.\n",
    "mdb-schema --namespace geo Nomenclator_Municipios_EntidadesDePoblacion.mdb mysql > schema.sql\n",
    "mkdir sql\n",
    "for i in $( mdb-tables Nomenclator_Municipios_EntidadesDePoblacion.mdb ); do echo $i ; mdb-export -D \"%Y-%m-%d %H:%M:%S\" -H -I mysql -N geo Nomenclator_Municipios_EntidadesDePoblacion.mdb $i > sql/$i.sql; done\n",
    "mysql -uroot -ppassword europeas < schema.sql\n",
    "for i in $( ls sql/ ); do echo $i ; mysql -uroot -ppassword europeas < sql/$i ; done\n",
    "\n",
    "Hay dos entidades de lugar que son siempre 0:\n",
    "\n",
    "```sql\n",
    "select distinct COMARCA,TRAMO from resultados;\n",
    "+---------+-------+\n",
    "| COMARCA | TRAMO |\n",
    "+---------+-------+\n",
    "| 00      | 0     |\n",
    "+---------+-------+\n",
    "1 row in set (0.51 sec)\n",
    "``\n"
   ]
  },
  {
   "cell_type": "code",
   "execution_count": null,
   "metadata": {},
   "outputs": [],
   "source": []
  },
  {
   "cell_type": "code",
   "execution_count": null,
   "metadata": {},
   "outputs": [],
   "source": []
  },
  {
   "cell_type": "code",
   "execution_count": null,
   "metadata": {},
   "outputs": [],
   "source": []
  },
  {
   "cell_type": "code",
   "execution_count": null,
   "metadata": {},
   "outputs": [],
   "source": [
    "conn.close()"
   ]
  },
  {
   "cell_type": "code",
   "execution_count": null,
   "metadata": {},
   "outputs": [],
   "source": []
  }
 ],
 "metadata": {
  "kernelspec": {
   "display_name": "Python 3",
   "language": "python",
   "name": "python3"
  },
  "language_info": {
   "codemirror_mode": {
    "name": "ipython",
    "version": 3
   },
   "file_extension": ".py",
   "mimetype": "text/x-python",
   "name": "python",
   "nbconvert_exporter": "python",
   "pygments_lexer": "ipython3",
   "version": "3.7.1"
  }
 },
 "nbformat": 4,
 "nbformat_minor": 2
}
