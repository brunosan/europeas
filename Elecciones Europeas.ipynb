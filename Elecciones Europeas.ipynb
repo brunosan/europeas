{
 "cells": [
  {
   "cell_type": "markdown",
   "metadata": {},
   "source": [
    "## Estrategia\n",
    "\n",
    "Calcular en qué unidades electorales es más fácil sacar votos, a la vez que podemos asignar quién sería el beneficiario de esa ganancia. Esto permite asignar visitas y mensajes a cada candidato. Estos mensajes pueden ser de pedir cambiar el voto, y de conseguir que los no votantes voten. La facilidad de cambiar el voto es proporcional a cómo de saturada esté la votación.\n",
    "\n",
    "\n",
    "## Hipótesis\n",
    "\n",
    "1. Los resultados de las votaciones son iguales a las anteriores, o extrapolaciones de la tendencia.\n",
    "2. El *efecto del esfuerzo* para ganar una % de votos satura en ambos extremos, es una gaussiana. En los extremos (cuando casi nadie o casi todos ya votan) cuesta mucho ganar votos, en el centro es más fácil.\n",
    "3. Los votos ganados tienen que salir de uno de estos dos sitios: a)de votos a otros partidos, cuya resistencia a cambiar es la misma gausiana que en 2. b) de motivar a los no votantes, que votarán en primera approximación proporcionalmente a predición de resultados. I.e. la estrategia puede ser \"ganar votos para un partido\" o \"id a votar\".\n",
    "4. El resultado del esfuerzo es proporcional al tamaño de la unidad de voto. Aunque el esfuerzo sea sobre el % de votos de una divisón electoral, hay divisiones con 100 candidatos, y otras con cientos de miles. \n",
    "5. Al ser España una circumscripción única para las Europeas, de listas cerradas, se puede asignar nombre a los votos ganados o perdidos en cada actuación. E.g. 10 votos más sacan al candidato X.\n",
    "* Por tanto, los efectos de los esfuerzos de voto se pueden asiganr a los candidatos correspodientes en la asignación de escaños. E.g. En el minicipio X se prevé que el esfuerzo es mínimo para sacar el escaño, y el mensaje es simplemente que voten.\n",
    "\n",
    "Por tanto, la idea es que, para cada escaño, calcular cuantos votos hacen falta para asignárselo. Luego ordenar los lugares por orden del resultado del esfuerzo. Uno podría minimizarlo con el coste del esfuerzo, pero en principio se ordena por el efecto del esfuerzo\n",
    "\n",
    "\n",
    "Dado un %% de votos, se asigna un tiron  Tx=gauss(x). Este tirón se tiene que compensar con una serie de tirones de Ta,Tb,Gc, ... y N. Siendo Ta=agauss(A) lo tirones negativos hasta que se consigue Tx. Tn es el tirón de los no votantes. El tirón de los no votantes tiene el effecto proporcional a los % de votos, por lo tanto afecta a todos. \n"
   ]
  },
  {
   "cell_type": "code",
   "execution_count": null,
   "metadata": {},
   "outputs": [],
   "source": [
    "import math\n",
    "import matplotlib.pyplot as plt\n",
    "import numpy as np\n",
    "\n",
    "def sigmoid(x):\n",
    "    stdev=10; mean=50;\n",
    "    return 100/(1+math.exp(-(x-mean)/stdev))\n",
    "\n",
    "#sigmoid function\n",
    "x = np.arange(0., 100., 0.2)\n",
    "sig=[]\n",
    "for item in x:\n",
    "    sig.append(sigmoid(item))\n",
    "    \n",
    "#resultados electorales\n",
    "resultados={\n",
    "    'NO':40,\n",
    "    'A': 55,\n",
    "    'B': 30,\n",
    "    'C': 10,\n",
    "    'D': 5\n",
    "}\n",
    "    \n",
    "    \n",
    "plt.plot(x,sig)\n",
    "plt.xlabel('% de votos totales')\n",
    "plt.ylabel('% de votos a candidatura')\n",
    "\n",
    "for key in resultados.keys():\n",
    "    plt.text(resultados[key],sigmoid(resultados[key]),'x '+key)\n",
    "plt.show()\n"
   ]
  },
  {
   "cell_type": "markdown",
   "metadata": {},
   "source": [
    "## Datos\n",
    "\n",
    "* Sacar los datos de elecceiones de 2014 granulares de los municipios\n",
    "* Buscar los sitios de menor participación.\n",
    "\n",
    "* Sacar las diferencias de participación.\n",
    "\n",
    "\n",
    "Busque en Wikipedia, en github, en el boe, pero nadie tiene los CSV de resultados desagregados.\n",
    "\n",
    "Al final encontré la mayoría de datos en http://elecciones.mir.es/resultados2014/ini99v.htm\n",
    "\n",
    "Auqneu son provisionales al 99.77% me valen.\n",
    "No tienen opcion a descargas todo, ni va con API que pueda ver. Pero si tienen un ejecutable con todos los datos. Al descargarlo (en wine con OSX) veo que tiene una base de datos que quizás sí tenga todos los datos desagregados. Es un .mdb (base de dato de Microsoft Office) de 132MB.\n",
    "\n",
    "Usé esta página para exportar los datos\n",
    "https://www.codeenigma.com/community/blog/using-mdbtools-nix-convert-microsoft-access-mysql\n",
    "\n",
    "```sql\n",
    "mdb-schema Europeas2014.mdb mysql > schema.sql\n",
    "mkdir sql\n",
    "for i in $( mdb-tables Europeas2014.mdb ); do echo $i ; mdb-export -D \"%Y-%m-%d %H:%M:%S\" -H -I mysql Europeas2014.mdb $i > sql/$i.sql; done\n",
    "mysql -uroot -ppassword europeas < schema.sql\n",
    "for i in $( ls sql/ ); do echo $i ; mysql -uroot -ppassword europeas < sql/$i ; done\n",
    "```\n",
    "Dará error al importar el sql Partidos, pero es un fichero raro binario, ni idea de lo que es.\n",
    "\n",
    "Si miras la tabla \"resultados\" verás que pone:\n"
   ]
  },
  {
   "cell_type": "code",
   "execution_count": null,
   "metadata": {},
   "outputs": [],
   "source": [
    "#Connect to de DB\n",
    "import os\n",
    "import pymysql\n",
    "import pandas as pd\n",
    "\n",
    "host = os.getenv('MYSQL_HOST')\n",
    "port = os.getenv('MYSQL_PORT')\n",
    "user = os.getenv('MYSQL_USER')\n",
    "password = os.getenv('MYSQL_PASSWORD')\n",
    "database = 'europeas'\n",
    "\n",
    "conn = pymysql.connect(\n",
    "    host=host,\n",
    "    port=int(port),\n",
    "    user=user,\n",
    "    passwd=password,\n",
    "    db=database,\n",
    "    charset='utf8mb4')"
   ]
  },
  {
   "cell_type": "code",
   "execution_count": null,
   "metadata": {},
   "outputs": [],
   "source": [
    "query=\"select * from resultados limit 1\"\n",
    "df = pd.read_sql_query(query,conn)\n",
    "df.to_dict('index')\n",
    "\n",
    "\n"
   ]
  },
  {
   "cell_type": "markdown",
   "metadata": {},
   "source": [
    "Esto quiere decir que la información de los nombres está codificada. Por ejemplo para saber qué distrito es `CANDIDATURA: 0002`\n"
   ]
  },
  {
   "cell_type": "code",
   "execution_count": null,
   "metadata": {},
   "outputs": [],
   "source": [
    "query=\"select * from candidaturas where candidatura=0002;\"\n",
    "df = pd.read_sql_query(query,conn)\n",
    "df.to_dict('index')\n"
   ]
  },
  {
   "cell_type": "markdown",
   "metadata": {},
   "source": [
    "## Resultados por municipio\n",
    "\n",
    "Como los datos están consignados, si quiero saber lo que votó en mi pueblo \"Soto del Barco\", primero tengo que sacar su consigna:"
   ]
  },
  {
   "cell_type": "code",
   "execution_count": null,
   "metadata": {},
   "outputs": [],
   "source": [
    "query=\"select * from municipios where nombre='Soto del Barco'\"\n",
    "df = pd.read_sql_query(query,conn)\n",
    "df.to_dict('index')\n"
   ]
  },
  {
   "cell_type": "code",
   "execution_count": null,
   "metadata": {},
   "outputs": [],
   "source": [
    "query=\"select * from municipios where AUTONOMIA=03 and PROVINCIA=33 and MUNICIPIO=069\"\n",
    "df = pd.read_sql_query(query,conn)\n",
    "df"
   ]
  },
  {
   "cell_type": "markdown",
   "metadata": {},
   "source": [
    "Ahora puedo pedir los resultados donde se cumplen esos criterios:"
   ]
  },
  {
   "cell_type": "code",
   "execution_count": null,
   "metadata": {},
   "outputs": [],
   "source": [
    "query=\"\"\"select tramo,candidatura,votos_act \n",
    "         from resultados \n",
    "         where AUTONOMIA=03 and PROVINCIA=33 and MUNICIPIO=069\n",
    "         and votos_act>0\n",
    "         order by votos_act desc;\"\"\"\n",
    "df = pd.read_sql_query(query,conn)\n",
    "df.to_dict('index')\n",
    "\n"
   ]
  },
  {
   "cell_type": "markdown",
   "metadata": {},
   "source": [
    "y para ver esos nombres:"
   ]
  },
  {
   "cell_type": "code",
   "execution_count": null,
   "metadata": {},
   "outputs": [],
   "source": [
    "query=\"\"\"select c.sigla,votos_act,PVOTOS_ACT \n",
    "         from resultados as r \n",
    "         join candidaturas as c on r.candidatura=c.candidatura \n",
    "         where AUTONOMIA=03 and PROVINCIA=33 and MUNICIPIO=069\n",
    "         and votos_act>0\n",
    "         order by votos_act desc;\"\"\"\n",
    "df = pd.read_sql_query(query,conn)\n",
    "df.to_dict('index')\n"
   ]
  },
  {
   "cell_type": "markdown",
   "metadata": {},
   "source": [
    "Para ver que vamos bien podemos mirar los resultados [en la web](http://elecciones.mir.es/resultados2014/99PE/DPE0333906999.htm?d=533), dentro del app:\n",
    "\n",
    "![Soto del Barco](sotodelbarco.png)\n",
    "\n"
   ]
  },
  {
   "cell_type": "markdown",
   "metadata": {},
   "source": [
    "# Histograma de % de votos por partido y Municipio\n",
    "\n",
    "El modelo se basa en comparar el % de votos en cada unidad, con el conseguido en todas las unidades."
   ]
  },
  {
   "cell_type": "code",
   "execution_count": null,
   "metadata": {},
   "outputs": [],
   "source": [
    "query=\"\"\"select c.sigla,r.PVOTOS_ACT \n",
    "         from resultados as r \n",
    "         join candidaturas as c on r.candidatura=c.candidatura \n",
    "         and r.PVOTOS_ACT >0\n",
    "         order by c.sigla asc;\"\"\"\n",
    "todos_votos = pd.read_sql_query(query,conn)\n",
    "todos_votos.head(10)"
   ]
  },
  {
   "cell_type": "code",
   "execution_count": null,
   "metadata": {},
   "outputs": [],
   "source": [
    "todos_votos.set_index(keys=['sigla'],inplace=True)"
   ]
  },
  {
   "cell_type": "code",
   "execution_count": null,
   "metadata": {},
   "outputs": [],
   "source": [
    "todos_votos.hist(by='sigla',figsize=(20,20),sharex=True,sharey=False,density=1);"
   ]
  },
  {
   "cell_type": "code",
   "execution_count": null,
   "metadata": {},
   "outputs": [],
   "source": [
    "query=\"select MESAS_ACT,CENSO_ACT,VOTOS_ACT,PVOTOS_ACT,VBLAN_ACT,PVBLAN_ACT,VNULOS_ACT,PVNULOS_ACT \"+\\\n",
    "    \"from escrutinio as e \"+\\\n",
    "    \"where\"+\\\n",
    "    \" e.CENSO_ACT>0;\"\n",
    "no_votantes = pd.read_sql_query(query,conn)\n",
    "len(no_votantes)"
   ]
  },
  {
   "cell_type": "code",
   "execution_count": null,
   "metadata": {},
   "outputs": [],
   "source": [
    "no_votantes.hist(column=['PVOTOS_ACT','PVBLAN_ACT','PVNULOS_ACT'],figsize=(10,10),bins=100,density=1);"
   ]
  },
  {
   "cell_type": "markdown",
   "metadata": {},
   "source": [
    "---\n",
    "\n",
    "# Ejemplo con un sitio"
   ]
  },
  {
   "cell_type": "code",
   "execution_count": null,
   "metadata": {},
   "outputs": [],
   "source": [
    "sitio='Gijon'"
   ]
  },
  {
   "cell_type": "code",
   "execution_count": null,
   "metadata": {},
   "outputs": [],
   "source": [
    "#get AUTONOMIA,PROVINCIA,MUNICIPIO\n",
    "query=\"select * from municipios where nombre='\"+sitio+\"'\"\n",
    "df = pd.read_sql_query(query,conn)\n",
    "lugar=df.to_dict('index')\n",
    "if (len(lugar.keys())>1):\n",
    "    print(lugar)\n",
    "    raise RuntimeError('Más de un lugar con ese nombre!')\n",
    "else:\n",
    "    lugar=lugar[0]         \n",
    "#print(lugar)\n",
    "\n",
    "#Check if it corresponds to several tramos\n",
    "query=\"select * from municipios where \"+\\\n",
    "      \"AUTONOMIA=\"+lugar['AUTONOMIA']+\\\n",
    "      \" and PROVINCIA=\"+lugar['PROVINCIA']+\\\n",
    "      \" and MUNICIPIO=\"+lugar['MUNICIPIO']\n",
    "ddf = pd.read_sql_query(query,conn).to_dict('index')\n",
    "if (len(ddf.keys())>1):\n",
    "    print(ddf)\n",
    "    raise RuntimeError('Más de un lugar en esa combinación de AUTONOMIA,PROVINCIA,MUNICIPIO!')\n",
    "\n",
    "#Comprobar si en los resultados hay varios tramos con esa combinacion de AUTONOMIA,PROVINCIA,MUNICIPIO\n",
    "query=\"select distinct tramo from resultados where \"+\\\n",
    "      \"AUTONOMIA=\"+lugar['AUTONOMIA']+\\\n",
    "      \" and PROVINCIA=\"+lugar['PROVINCIA']+\\\n",
    "      \" and MUNICIPIO=\"+lugar['MUNICIPIO']\n",
    "df = pd.read_sql_query(query,conn)\n",
    "ddf= df.to_dict('index')\n",
    "if (len(ddf.keys())>1):\n",
    "    print(ddf)\n",
    "    raise RuntimeError('Más de un lugar de votaciones con en esa combinación de AUTONOMIA,PROVINCIA,MUNICIPIO!')"
   ]
  },
  {
   "cell_type": "code",
   "execution_count": null,
   "metadata": {},
   "outputs": [],
   "source": [
    "query=\"select c.sigla,r.VOTOS_ACT,r.PVOTOS_ACT \"+\\\n",
    "    \"from resultados as r \"+\\\n",
    "    \"join candidaturas as c on r.candidatura=c.candidatura \"+\\\n",
    "    \"where r.PVOTOS_ACT >0\"+\\\n",
    "    \" and r.AUTONOMIA=\"+lugar['AUTONOMIA']+\\\n",
    "    \" and r.PROVINCIA=\"+lugar['PROVINCIA']+\\\n",
    "    \" and r.MUNICIPIO=\"+lugar['MUNICIPIO']+\\\n",
    "    \" order by votos_act desc;\"\"\"\n",
    "votos_lugar = pd.read_sql_query(query,conn)\n",
    "votos_lugar.to_dict('index')"
   ]
  },
  {
   "cell_type": "code",
   "execution_count": null,
   "metadata": {},
   "outputs": [],
   "source": [
    "query=\"select MESAS_ACT,CENSO_ACT,VOTOS_ACT,PVOTOS_ACT,VBLAN_ACT,PVBLAN_ACT,VNULOS_ACT,PVNULOS_ACT \"+\\\n",
    "    \"from escrutinio as e \"+\\\n",
    "    \"where\"+\\\n",
    "    \" e.AUTONOMIA=\"+lugar['AUTONOMIA']+\\\n",
    "    \" and e.PROVINCIA=\"+lugar['PROVINCIA']+\\\n",
    "    \" and e.MUNICIPIO=\"+lugar['MUNICIPIO']+\\\n",
    "    \";\"\n",
    "escrutinio_lugar = pd.read_sql_query(query,conn)\n",
    "escrutinio_lugar.to_dict('index')"
   ]
  },
  {
   "cell_type": "code",
   "execution_count": null,
   "metadata": {},
   "outputs": [],
   "source": [
    "#partidos_con_votos\n",
    "query=\"select distinct c.sigla \"+\\\n",
    "    \"from candidaturas as c \"+\\\n",
    "    \"join resultados as r on r.candidatura=c.candidatura \"+\\\n",
    "    \"where r.VOTOS_ACT >0\"+\\\n",
    "    \" and r.AUTONOMIA=\"+lugar['AUTONOMIA']+\\\n",
    "    \" and r.PROVINCIA=\"+lugar['PROVINCIA']+\\\n",
    "    \" and r.MUNICIPIO=\"+lugar['MUNICIPIO']+\\\n",
    "    \";\"\"\"\n",
    "partidos_con_votos = pd.read_sql_query(query,conn).values\n",
    "partidos_con_votos\n",
    "\n"
   ]
  },
  {
   "cell_type": "code",
   "execution_count": null,
   "metadata": {},
   "outputs": [],
   "source": [
    "import numpy as np\n",
    "import matplotlib.pyplot as plt\n",
    "\n",
    "cols=4\n",
    "rows=len(partidos_con_votos)/4 +1\n",
    "\n",
    "plt.figure(figsize=(30,30))\n",
    "\n",
    "  \n",
    "k=0\n",
    "#each party\n",
    "for partido in partidos_con_votos:\n",
    "    k=k+1\n",
    "    partido=partido[0]\n",
    "    todos_partido=todos_votos[todos_votos['sigla']==partido]['PVOTOS_ACT'].values\n",
    "    este_partido=votos_lugar[votos_lugar['sigla']==partido]['PVOTOS_ACT'].values\n",
    "    votos=votos_lugar[votos_lugar['sigla']==partido]['VOTOS_ACT'].values\n",
    "\n",
    "    # the histogram of the data\n",
    "    plt.subplot(rows,cols,k)\n",
    "    \n",
    "    n, bins, patches = plt.hist(todos_partido, 100, density=True, facecolor='g', alpha=0.75)\n",
    "    plt.axvline(x=este_partido,linewidth=5)\n",
    "\n",
    "    plt.xlim(np.percentile(todos_partido,1), np.percentile(todos_partido,99))\n",
    "    plt.title(partido+' '+str(votos[0]))\n",
    "    plt.grid(True)\n",
    "\n",
    "#non voters\n",
    "k=k+1\n",
    "plt.subplot(rows,cols,k)\n",
    "\n",
    "todos_no_votos=no_votantes['PVOTOS_ACT'].values\n",
    "este_no_votos=escrutinio_lugar['PVOTOS_ACT'].values\n",
    "\n",
    "n, bins, patches = plt.hist(todos_no_votos, 100, density=True, facecolor='b', alpha=0.75)\n",
    "plt.axvline(x=este_no_votos,linewidth=5)\n",
    "\n",
    "plt.xlim(np.percentile(todos_no_votos,1), np.percentile(todos_no_votos,99))\n",
    "plt.title('NO VOTANTES '+str(escrutinio_lugar['VOTOS_ACT'].values))\n",
    "plt.grid(True)\n",
    "\n",
    "plt.show()"
   ]
  },
  {
   "cell_type": "code",
   "execution_count": null,
   "metadata": {},
   "outputs": [],
   "source": [
    "partido='VOX'\n",
    "\n",
    "todos_partido=todos_votos[todos_votos['sigla']==partido]['PVOTOS_ACT'].values\n",
    "este_partido=votos_lugar[votos_lugar['sigla']==partido]['PVOTOS_ACT'].values\n",
    "\n",
    "# the histogram of the data\n",
    "n, bins, patches = plt.hist(todos_partido, 100, density=True, facecolor='g', alpha=0.75)\n",
    "plt.axvline(x=este_partido,linewidth=5)\n",
    "\n",
    "plt.axis([np.percentile(todos_partido,1), np.percentile(todos_partido,99),0,.8])\n",
    "plt.xlabel('Distribución resultados nacional')\n",
    "plt.ylabel('Probabilidad')\n",
    "plt.title(partido)\n",
    "\n",
    "plt.grid(True)\n",
    "plt.rcParams[\"figure.figsize\"] = [10,10]\n",
    "plt.show()\n",
    "\n",
    "\n",
    "\n"
   ]
  },
  {
   "cell_type": "code",
   "execution_count": null,
   "metadata": {},
   "outputs": [],
   "source": []
  },
  {
   "cell_type": "code",
   "execution_count": null,
   "metadata": {},
   "outputs": [],
   "source": []
  },
  {
   "cell_type": "code",
   "execution_count": null,
   "metadata": {},
   "outputs": [],
   "source": []
  },
  {
   "cell_type": "code",
   "execution_count": null,
   "metadata": {},
   "outputs": [],
   "source": []
  },
  {
   "cell_type": "code",
   "execution_count": null,
   "metadata": {},
   "outputs": [],
   "source": []
  },
  {
   "cell_type": "code",
   "execution_count": null,
   "metadata": {},
   "outputs": [],
   "source": []
  },
  {
   "cell_type": "markdown",
   "metadata": {},
   "source": [
    "## GEOLOCALIZACIÓN\n",
    "\n",
    "Los datos geograficos salen de\n",
    "http://centrodedescargas.cnig.es/CentroDescargas/index.jsp\n",
    "\n",
    "También en formato mdb.\n",
    "mdb-schema --namespace geo Nomenclator_Municipios_EntidadesDePoblacion.mdb mysql > schema.sql\n",
    "mkdir sql\n",
    "for i in $( mdb-tables Nomenclator_Municipios_EntidadesDePoblacion.mdb ); do echo $i ; mdb-export -D \"%Y-%m-%d %H:%M:%S\" -H -I mysql -N geo Nomenclator_Municipios_EntidadesDePoblacion.mdb $i > sql/$i.sql; done\n",
    "mysql -uroot -ppassword europeas < schema.sql\n",
    "for i in $( ls sql/ ); do echo $i ; mysql -uroot -ppassword europeas < sql/$i ; done\n",
    "\n",
    "Hay dos entidades de lugar que son siempre 0:\n",
    "\n",
    "```sql\n",
    "select distinct COMARCA,TRAMO from resultados;\n",
    "+---------+-------+\n",
    "| COMARCA | TRAMO |\n",
    "+---------+-------+\n",
    "| 00      | 0     |\n",
    "+---------+-------+\n",
    "1 row in set (0.51 sec)\n",
    "``\n"
   ]
  },
  {
   "cell_type": "code",
   "execution_count": null,
   "metadata": {},
   "outputs": [],
   "source": []
  },
  {
   "cell_type": "code",
   "execution_count": null,
   "metadata": {},
   "outputs": [],
   "source": []
  },
  {
   "cell_type": "code",
   "execution_count": null,
   "metadata": {},
   "outputs": [],
   "source": []
  },
  {
   "cell_type": "code",
   "execution_count": null,
   "metadata": {},
   "outputs": [],
   "source": [
    "conn.close()"
   ]
  },
  {
   "cell_type": "code",
   "execution_count": null,
   "metadata": {},
   "outputs": [],
   "source": []
  }
 ],
 "metadata": {
  "kernelspec": {
   "display_name": "Python 3",
   "language": "python",
   "name": "python3"
  },
  "language_info": {
   "codemirror_mode": {
    "name": "ipython",
    "version": 3
   },
   "file_extension": ".py",
   "mimetype": "text/x-python",
   "name": "python",
   "nbconvert_exporter": "python",
   "pygments_lexer": "ipython3",
   "version": "3.7.1"
  }
 },
 "nbformat": 4,
 "nbformat_minor": 2
}
